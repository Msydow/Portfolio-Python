{
 "cells": [
  {
   "cell_type": "markdown",
   "metadata": {
    "collapsed": false
   },
   "source": [
    "GOOFSPIEL\n",
    "Gdy zagramy kartę wyższą niż przeciwnik dostajemy punkty równe wartości karty na stole, gdy zagramy to samo, nikt nie dostaje punktów."
   ]
  },
  {
   "cell_type": "markdown",
   "metadata": {
    "collapsed": false
   },
   "source": [
    "Korzystając z oznaczeń poleconeg artykułu oznaczmy f(V,Y,P) jako zwrot gracza gdzie V=nasze karty, Y=karty przeciwnika, P=karty w talii.\n"
   ]
  },
  {
   "cell_type": "markdown",
   "metadata": {
    "collapsed": false
   },
   "source": [
    "Niech f_k(V,Y,P) oznacza tą wartość dla odkrytej karty o wartości k. Zatem można z tego wywnioskować że nasza oczekiwana wartość gry jest średnią wszystkich f_k"
   ]
  },
  {
   "cell_type": "markdown",
   "metadata": {
    "collapsed": false
   },
   "source": [
    "X_i,j=P_k*sign(V_i-Y_j)+f(V\\V_i,Y\\Y_j,P\\P_k)  czyli w skrócie +-wartość karty odkrytej w zależności czy wygraliśmy, lub 0 w remisie powiększone o oczekiwaną wartość reszty gry\n"
   ]
  },
  {
   "cell_type": "markdown",
   "metadata": {
    "collapsed": false
   },
   "source": [
    "Trudność może wystąpić przy wyliczaniu wartości oczekiwanej reszty gry dlatego podejdziemy do tego rekurencyjnie"
   ]
  },
  {
   "cell_type": "code",
   "execution_count": 13,
   "metadata": {
    "collapsed": false
   },
   "outputs": [
   ],
   "source": [
    "k=4                                                                     #Podajemy ilość elementów w listach\n",
    "V=[*range(1, k+1, 1)]                                                   #tworzymy listy\n",
    "Y=[*range(1, k+1, 1)]\n",
    "P=[*range(1, k+1, 1)]\n",
    "wynik=matrix(RDF,k,k,0)"
   ]
  },
  {
   "cell_type": "code",
   "execution_count": 2,
   "metadata": {
    "collapsed": false
   },
   "outputs": [
   ],
   "source": [
    "def sign(x):                                                            #zdefiniujmy funkcję sign(x)\n",
    "    if x==0:\n",
    "        return 0\n",
    "    else:\n",
    "        return math.copysign(1,x)"
   ]
  },
  {
   "cell_type": "code",
   "execution_count": 3,
   "metadata": {
    "collapsed": false
   },
   "outputs": [
   ],
   "source": [
    "def f(V,Y,P,N):                                                         #funkcja f, czyli średnia z fk czyli wszystkich możliwych pozostałych gier\n",
    "    if N==0:\n",
    "        return 0\n",
    "    elif N==1:                                                          #N==1 podajemy ręcznie aby nie robić niepotrzebnych obliczeń\n",
    "        return sign(V[0]-Y[0])*P[0]\n",
    "    else:                                                               #dla n>1 wywołujemy funkcję fk czyli naszą rekurencje\n",
    "        avg=0\n",
    "        for Pk in range(N):\n",
    "            avg+=fk(V,Y,P,Pk,N)\n",
    "        return avg/N"
   ]
  },
  {
   "cell_type": "code",
   "execution_count": 4,
   "metadata": {
    "collapsed": false
   },
   "outputs": [
   ],
   "source": [
    "def fk(V,Y,P,Pk,N):                                                     #funkcja fk czyli pozostałe gry po odkryciu karty Pk\n",
    "    if N==0:\n",
    "        return 0\n",
    "    else:\n",
    "        X=matrix(RR,N,N,0)                                              #tworzymy pustą macierz na której będziemy nadpisywać tworząc macierz wypłat\n",
    "        P2=P.copy()\n",
    "        P2.remove(P[Pk])\n",
    "        for i in range(N):\n",
    "            V2=V.copy()\n",
    "            V2.remove(V[i])\n",
    "            for j in range(N):                                          #tworzymy kopie list aby je modyfikować na potrzeby dalszego kroku rekurencji\n",
    "                Y2=Y.copy()\n",
    "                Y2.remove(Y[j])\n",
    "                X[i,j]=P[Pk]*sign(V[i]-Y[j])+f(V2,Y2,P2,N-1)            #przypisujemy macierzy X wartości ze wzoru, testowane na N=2 podaje poprawną macierz\n",
    "        #if N==k+2:\n",
    "        #show(X)\n",
    "        lp=MixedIntegerLinearProgram(maximization=True)                 #szukanie optymalnej strategii gry z macierzą wypłat X\n",
    "        x=lp.new_variable(nonnegative=True)\n",
    "        y=lp.new_variable(nonnegative=False)\n",
    "        lp.set_objective(y[0])                                          #cel y[0] czyli dodatkowa zmienna\n",
    "        lp.add_constraint(sum([x[c] for c in range(N)])==1)             #suma prawdopodobieństw z którą mamy grać dane strategie musi być równa 1\n",
    "        for a in range(N):\n",
    "            lp.add_constraint(sum([round(X[b,a],10)*x[b] for b in range(N)])-y[0]>=0)           #dodajemy warunki z liczenia strategii optymalnej\n",
    "        lp.solve()\n",
    "        if N==k:\n",
    "            for h in range(N):\n",
    "                wynik[h,Pk]=round(lp.get_values(x[h]),4)\n",
    "            #show(lp.get_values(x))                                      #pokazuje wartości prawdopodobieństwa zagrań danej karty przy odkryciu konkretnej karty (trzeba transponować)\n",
    "            if Pk==k-1:\n",
    "                show(wynik)\n",
    "    return lp.get_objective_value()                                     #funkcja zwraca wartość funkcji celu\n"
   ]
  },
  {
   "cell_type": "code",
   "execution_count": 6,
   "metadata": {
    "collapsed": false
   },
   "outputs": [
    {
     "name": "stdout",
     "output_type": "stream",
     "text": [
      "Macierz optymalnej strategii dla N=2:\n"
     ]
    },
    {
     "data": {
      "text/html": [
       "<html><script type=\"math/tex; mode=display\">\\newcommand{\\Bold}[1]{\\mathbf{#1}}\\left(\\begin{array}{rr}\n",
       "1.0 & 0.0 \\\\\n",
       "0.0 & 1.0\n",
       "\\end{array}\\right)</script></html>"
      ],
      "text/latex": [
       "\\begin{math}\n",
       "\\newcommand{\\Bold}[1]{\\mathbf{#1}}\\left(\\begin{array}{rr}\n",
       "1.0 & 0.0 \\\\\n",
       "0.0 & 1.0\n",
       "\\end{array}\\right)\n",
       "\\end{math}"
      ],
      "text/plain": [
       "[1.0 0.0]\n",
       "[0.0 1.0]"
      ]
     },
     "execution_count": 6,
     "metadata": {
     },
     "output_type": "execute_result"
    },
    {
     "data": {
      "text/plain": [
       "0.0"
      ]
     },
     "execution_count": 6,
     "metadata": {
     },
     "output_type": "execute_result"
    }
   ],
   "source": [
    "print(\"Macierz optymalnej strategii dla N=2:\")\n",
    "f(V,Y,P,k)"
   ]
  },
  {
   "cell_type": "code",
   "execution_count": 8,
   "metadata": {
    "collapsed": false
   },
   "outputs": [
    {
     "name": "stdout",
     "output_type": "stream",
     "text": [
      "Macierz optymalnej strategii dla N=3:\n"
     ]
    },
    {
     "data": {
      "text/html": [
       "<html><script type=\"math/tex; mode=display\">\\newcommand{\\Bold}[1]{\\mathbf{#1}}\\left(\\begin{array}{rrr}\n",
       "1.0 & 0.0 & 0.0 \\\\\n",
       "0.0 & 0.5556 & 0.0 \\\\\n",
       "0.0 & 0.4444 & 1.0\n",
       "\\end{array}\\right)</script></html>"
      ],
      "text/latex": [
       "\\begin{math}\n",
       "\\newcommand{\\Bold}[1]{\\mathbf{#1}}\\left(\\begin{array}{rrr}\n",
       "1.0 & 0.0 & 0.0 \\\\\n",
       "0.0 & 0.5556 & 0.0 \\\\\n",
       "0.0 & 0.4444 & 1.0\n",
       "\\end{array}\\right)\n",
       "\\end{math}"
      ],
      "text/plain": [
       "[   1.0    0.0    0.0]\n",
       "[   0.0 0.5556    0.0]\n",
       "[   0.0 0.4444    1.0]"
      ]
     },
     "execution_count": 8,
     "metadata": {
     },
     "output_type": "execute_result"
    },
    {
     "data": {
      "text/plain": [
       "0.0"
      ]
     },
     "execution_count": 8,
     "metadata": {
     },
     "output_type": "execute_result"
    }
   ],
   "source": [
    "print(\"Macierz optymalnej strategii dla N=3:\")\n",
    "f(V,Y,P,k)"
   ]
  },
  {
   "cell_type": "code",
   "execution_count": 10,
   "metadata": {
    "collapsed": false
   },
   "outputs": [
    {
     "name": "stdout",
     "output_type": "stream",
     "text": [
      "Macierz optymalnej strategii dla N=4:\n"
     ]
    },
    {
     "data": {
      "text/html": [
       "<html><script type=\"math/tex; mode=display\">\\newcommand{\\Bold}[1]{\\mathbf{#1}}\\left(\\begin{array}{rrrr}\n",
       "1.0 & 0.3371 & 0.2687 & 0.0 \\\\\n",
       "0.0 & 0.136 & 0.0 & 0.0 \\\\\n",
       "0.0 & 0.5269 & 0.514 & 0.0 \\\\\n",
       "0.0 & 0.0 & 0.2173 & 1.0\n",
       "\\end{array}\\right)</script></html>"
      ],
      "text/latex": [
       "\\begin{math}\n",
       "\\newcommand{\\Bold}[1]{\\mathbf{#1}}\\left(\\begin{array}{rrrr}\n",
       "1.0 & 0.3371 & 0.2687 & 0.0 \\\\\n",
       "0.0 & 0.136 & 0.0 & 0.0 \\\\\n",
       "0.0 & 0.5269 & 0.514 & 0.0 \\\\\n",
       "0.0 & 0.0 & 0.2173 & 1.0\n",
       "\\end{array}\\right)\n",
       "\\end{math}"
      ],
      "text/plain": [
       "[   1.0 0.3371 0.2687    0.0]\n",
       "[   0.0  0.136    0.0    0.0]\n",
       "[   0.0 0.5269  0.514    0.0]\n",
       "[   0.0    0.0 0.2173    1.0]"
      ]
     },
     "execution_count": 10,
     "metadata": {
     },
     "output_type": "execute_result"
    },
    {
     "data": {
      "text/plain": [
       "1.474514954580286e-17"
      ]
     },
     "execution_count": 10,
     "metadata": {
     },
     "output_type": "execute_result"
    }
   ],
   "source": [
    "print(\"Macierz optymalnej strategii dla N=4:\")\n",
    "f(V,Y,P,k)"
   ]
  },
  {
   "cell_type": "code",
   "execution_count": 12,
   "metadata": {
    "collapsed": false
   },
   "outputs": [
    {
     "name": "stdout",
     "output_type": "stream",
     "text": [
      "Macierz optymalnej strategii dla N=5:\n"
     ]
    },
    {
     "data": {
      "text/html": [
       "<html><script type=\"math/tex; mode=display\">\\newcommand{\\Bold}[1]{\\mathbf{#1}}\\left(\\begin{array}{rrrrr}\n",
       "0.047 & 0.1855 & 0.1182 & 0.1226 & 0.1123 \\\\\n",
       "0.8327 & 0.0 & 0.1188 & 0.0735 & 0.0241 \\\\\n",
       "0.1203 & 0.7375 & 0.0 & 0.1915 & 0.0 \\\\\n",
       "0.0 & 0.077 & 0.763 & 0.2043 & 0.0 \\\\\n",
       "0.0 & 0.0 & 0.0 & 0.4081 & 0.8636\n",
       "\\end{array}\\right)</script></html>"
      ],
      "text/latex": [
       "\\begin{math}\n",
       "\\newcommand{\\Bold}[1]{\\mathbf{#1}}\\left(\\begin{array}{rrrrr}\n",
       "0.047 & 0.1855 & 0.1182 & 0.1226 & 0.1123 \\\\\n",
       "0.8327 & 0.0 & 0.1188 & 0.0735 & 0.0241 \\\\\n",
       "0.1203 & 0.7375 & 0.0 & 0.1915 & 0.0 \\\\\n",
       "0.0 & 0.077 & 0.763 & 0.2043 & 0.0 \\\\\n",
       "0.0 & 0.0 & 0.0 & 0.4081 & 0.8636\n",
       "\\end{array}\\right)\n",
       "\\end{math}"
      ],
      "text/plain": [
       "[ 0.047 0.1855 0.1182 0.1226 0.1123]\n",
       "[0.8327    0.0 0.1188 0.0735 0.0241]\n",
       "[0.1203 0.7375    0.0 0.1915    0.0]\n",
       "[   0.0  0.077  0.763 0.2043    0.0]\n",
       "[   0.0    0.0    0.0 0.4081 0.8636]"
      ]
     },
     "execution_count": 12,
     "metadata": {
     },
     "output_type": "execute_result"
    },
    {
     "data": {
      "text/plain": [
       "6.38378239159465e-17"
      ]
     },
     "execution_count": 12,
     "metadata": {
     },
     "output_type": "execute_result"
    }
   ],
   "source": [
    "print(\"Macierz optymalnej strategii dla N=5:\")\n",
    "f(V,Y,P,k)"
   ]
  },
  {
   "cell_type": "raw",
   "metadata": {
    "collapsed": false
   },
   "source": [
    "Czas wykonywania obliczeń:\n",
    "N={1,2,3,4} wynik otrzymujemy natychmiastowo\n",
    "N=5 wynik otrzymujemy po 2 minutach\n",
    "N=6 wynik nie został wyznaczony podczas 8 godzin, które mogłem poświęcić na działanie programu.\n",
    "N=7 nie zostało skompilowane z powodu przewidywanego czasu pracy powyżej 2 miesięcy"
   ]
  }
 ],
 "metadata": {
  "kernelspec": {
   "display_name": "SageMath 9.3",
   "language": "sagemath",
   "metadata": {
    "cocalc": {
     "description": "Open-source mathematical software system",
     "priority": 10,
     "url": "https://www.sagemath.org/"
    }
   },
   "name": "sage-9.3",
   "resource_dir": "/ext/jupyter/kernels/sage-9.3"
  },
  "language_info": {
   "codemirror_mode": {
    "name": "ipython",
    "version": 3
   },
   "file_extension": ".py",
   "mimetype": "text/x-python",
   "name": "python",
   "nbconvert_exporter": "python",
   "pygments_lexer": "ipython3",
   "version": "3.7.7"
  }
 },
 "nbformat": 4,
 "nbformat_minor": 4
}